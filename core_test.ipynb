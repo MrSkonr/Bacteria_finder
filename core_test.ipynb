{
 "cells": [
  {
   "cell_type": "markdown",
   "metadata": {},
   "source": [
    "## Libraries"
   ]
  },
  {
   "cell_type": "code",
   "execution_count": 1,
   "metadata": {},
   "outputs": [],
   "source": [
    "import os\n",
    "from Bacteria_finder_core.segmentor import Bacteria_segmentor"
   ]
  },
  {
   "cell_type": "markdown",
   "metadata": {},
   "source": [
    "## Testing"
   ]
  },
  {
   "cell_type": "code",
   "execution_count": 2,
   "metadata": {},
   "outputs": [],
   "source": [
    "file_name = [\"test_input_1.bmp\",\"test_input_2.bmp\"]\n",
    "output_files_names = [\"test_input_1_classified\",\"test_input_2_classified\"]"
   ]
  },
  {
   "cell_type": "code",
   "execution_count": 3,
   "metadata": {},
   "outputs": [],
   "source": [
    "test_segmentor = Bacteria_segmentor(\"omnipose\")"
   ]
  },
  {
   "cell_type": "code",
   "execution_count": 4,
   "metadata": {},
   "outputs": [
    {
     "name": "stdout",
     "output_type": "stream",
     "text": [
      "2023-09-10 09:58:46,023 [INFO] ** TORCH CUDA version installed and working. **\n",
      "2023-09-10 09:58:46,024 [INFO] >>bact_phase_omni<< model set to be used\n",
      "2023-09-10 09:58:46,027 [INFO] ** TORCH GPU version installed and working. **\n",
      "2023-09-10 09:58:46,028 [INFO] >>>> using GPU\n"
     ]
    },
    {
     "name": "stdout",
     "output_type": "stream",
     "text": [
      "2023-09-10 09:59:17,470 [INFO] ** TORCH CUDA version installed and working. **\n",
      "2023-09-10 09:59:17,471 [INFO] >>bact_phase_omni<< model set to be used\n",
      "2023-09-10 09:59:17,473 [INFO] ** TORCH GPU version installed and working. **\n",
      "2023-09-10 09:59:17,474 [INFO] >>>> using GPU\n"
     ]
    }
   ],
   "source": [
    "for read_path, save_path in zip(file_name,output_files_names):\n",
    "    test_segmentor.pipeline(read_path, save_path)"
   ]
  }
 ],
 "metadata": {
  "kernelspec": {
   "display_name": "base",
   "language": "python",
   "name": "python3"
  },
  "language_info": {
   "codemirror_mode": {
    "name": "ipython",
    "version": 3
   },
   "file_extension": ".py",
   "mimetype": "text/x-python",
   "name": "python",
   "nbconvert_exporter": "python",
   "pygments_lexer": "ipython3",
   "version": "3.11.4"
  },
  "orig_nbformat": 4
 },
 "nbformat": 4,
 "nbformat_minor": 2
}
